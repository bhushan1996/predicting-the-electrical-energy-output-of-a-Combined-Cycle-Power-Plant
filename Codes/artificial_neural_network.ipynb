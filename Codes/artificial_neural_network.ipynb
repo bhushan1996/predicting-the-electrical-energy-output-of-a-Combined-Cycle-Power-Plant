{
 "cells": [
  {
   "cell_type": "markdown",
   "metadata": {
    "colab_type": "text",
    "id": "3cbb7fRy-eyr"
   },
   "source": [
    "# Artificial Neural Network"
   ]
  },
  {
   "cell_type": "markdown",
   "metadata": {
    "colab_type": "text",
    "id": "8sNDnxE2-pwE"
   },
   "source": [
    "### Importing the libraries"
   ]
  },
  {
   "cell_type": "code",
   "execution_count": 1,
   "metadata": {
    "colab": {},
    "colab_type": "code",
    "id": "lxChR1Rk-umf",
    "tags": []
   },
   "outputs": [],
   "source": [
    "import pandas as pd\n",
    "import numpy as np\n",
    "import tensorflow as tf"
   ]
  },
  {
   "cell_type": "code",
   "execution_count": 2,
   "metadata": {
    "colab": {
     "base_uri": "https://localhost:8080/",
     "height": 34
    },
    "colab_type": "code",
    "id": "uBTqR3nacj0e",
    "outputId": "4c0bd183-e424-429a-9fba-ceb841c06888",
    "tags": []
   },
   "outputs": [
    {
     "data": {
      "text/plain": [
       "'2.12.0'"
      ]
     },
     "execution_count": 2,
     "metadata": {},
     "output_type": "execute_result"
    }
   ],
   "source": [
    "tf.__version__"
   ]
  },
  {
   "cell_type": "markdown",
   "metadata": {
    "colab_type": "text",
    "id": "AG3FQEch-yuA"
   },
   "source": [
    "## Part 1 - Data Preprocessing"
   ]
  },
  {
   "cell_type": "markdown",
   "metadata": {
    "colab_type": "text",
    "id": "-4zq8Mza_D9O"
   },
   "source": [
    "### Importing the dataset"
   ]
  },
  {
   "cell_type": "code",
   "execution_count": 3,
   "metadata": {
    "colab": {},
    "colab_type": "code",
    "id": "B9CV13Co_HHM",
    "tags": []
   },
   "outputs": [],
   "source": [
    "# xls = pd.read_excel('../dataset/Folds5x2_pp.xlsx', sheet_name=None)\n",
    "\n",
    "# dataframes = []\n",
    "\n",
    "# for i in xls.keys():\n",
    "#     dataframes.append(xls[i])\n",
    "# dataset = pd.concat(dataframes)\n",
    "\n",
    "dataset = pd.read_excel('../dataset/Folds5x2_pp.xlsx')\n",
    "\n",
    "X = dataset.iloc[:, :-1].values\n",
    "y = dataset.iloc[:, -1].values"
   ]
  },
  {
   "cell_type": "markdown",
   "metadata": {
    "colab_type": "text",
    "id": "VC6omXel_Up0"
   },
   "source": [
    "### Splitting the dataset into the Training set and Test set"
   ]
  },
  {
   "cell_type": "code",
   "execution_count": 4,
   "metadata": {
    "colab": {},
    "colab_type": "code",
    "id": "L5edeb2r_agx"
   },
   "outputs": [],
   "source": [
    "from sklearn.model_selection import train_test_split\n",
    "X_train, X_test, y_train, y_test = train_test_split(X, y, test_size = 0.2, random_state = 0)"
   ]
  },
  {
   "cell_type": "markdown",
   "metadata": {
    "colab_type": "text",
    "id": "_mSLlAT9_eyI"
   },
   "source": [
    "## Part 2 - Building the ANN"
   ]
  },
  {
   "cell_type": "markdown",
   "metadata": {
    "colab_type": "text",
    "id": "CsBULd_f_wLY"
   },
   "source": [
    "### Initializing the ANN"
   ]
  },
  {
   "cell_type": "code",
   "execution_count": 5,
   "metadata": {
    "colab": {},
    "colab_type": "code",
    "id": "J6Hd97Ls__Nz"
   },
   "outputs": [],
   "source": [
    "ann = tf.keras.models.Sequential()"
   ]
  },
  {
   "cell_type": "markdown",
   "metadata": {
    "colab_type": "text",
    "id": "iitAFJS_ABUn"
   },
   "source": [
    "### Adding the input layer and the first hidden layer"
   ]
  },
  {
   "cell_type": "code",
   "execution_count": 6,
   "metadata": {
    "colab": {},
    "colab_type": "code",
    "id": "ksO_Vv40AHix"
   },
   "outputs": [],
   "source": [
    "ann.add(tf.keras.layers.Dense(units=6, activation='relu'))"
   ]
  },
  {
   "cell_type": "markdown",
   "metadata": {
    "colab_type": "text",
    "id": "-lb4kK_wAKbs"
   },
   "source": [
    "### Adding the second hidden layer"
   ]
  },
  {
   "cell_type": "code",
   "execution_count": 7,
   "metadata": {
    "colab": {},
    "colab_type": "code",
    "id": "c2357OqEAQOQ"
   },
   "outputs": [],
   "source": [
    "ann.add(tf.keras.layers.Dense(units=6, activation='relu'))"
   ]
  },
  {
   "cell_type": "markdown",
   "metadata": {
    "colab_type": "text",
    "id": "jwMOmKb3AdBY"
   },
   "source": [
    "### Adding the output layer"
   ]
  },
  {
   "cell_type": "code",
   "execution_count": 8,
   "metadata": {
    "colab": {},
    "colab_type": "code",
    "id": "YFATpzsUAkLL"
   },
   "outputs": [],
   "source": [
    "ann.add(tf.keras.layers.Dense(units=1))"
   ]
  },
  {
   "cell_type": "markdown",
   "metadata": {
    "colab_type": "text",
    "id": "fq7e4fF6A1yy"
   },
   "source": [
    "## Part 3 - Training the ANN"
   ]
  },
  {
   "cell_type": "markdown",
   "metadata": {
    "colab_type": "text",
    "id": "qDeylAs2An25"
   },
   "source": [
    "### Compiling the ANN"
   ]
  },
  {
   "cell_type": "code",
   "execution_count": 9,
   "metadata": {
    "colab": {},
    "colab_type": "code",
    "id": "pesgbWlCAtB4"
   },
   "outputs": [],
   "source": [
    "ann.compile(optimizer = 'adam', loss = 'mean_squared_error')"
   ]
  },
  {
   "cell_type": "markdown",
   "metadata": {
    "colab_type": "text",
    "id": "YjVuiybYOo7r"
   },
   "source": [
    "### Training the ANN model on the Training set"
   ]
  },
  {
   "cell_type": "code",
   "execution_count": 10,
   "metadata": {
    "colab": {
     "base_uri": "https://localhost:8080/",
     "height": 1000
    },
    "colab_type": "code",
    "id": "c_vV-tiiA5zn",
    "outputId": "4a2b6ee6-ed75-4698-9069-b250e613803f"
   },
   "outputs": [
    {
     "name": "stdout",
     "output_type": "stream",
     "text": [
      "Epoch 1/100\n",
      "133/240 [===============>..............] - ETA: 0s - loss: 459901.7812 "
     ]
    },
    {
     "name": "stderr",
     "output_type": "stream",
     "text": [
      "2024-07-30 16:16:46.968799: W tensorflow/tsl/platform/profile_utils/cpu_utils.cc:128] Failed to get CPU frequency: 0 Hz\n"
     ]
    },
    {
     "name": "stdout",
     "output_type": "stream",
     "text": [
      "240/240 [==============================] - 0s 362us/step - loss: 319815.6562\n",
      "Epoch 2/100\n",
      "240/240 [==============================] - 0s 310us/step - loss: 4090.6882\n",
      "Epoch 3/100\n",
      "240/240 [==============================] - 0s 304us/step - loss: 167.5392\n",
      "Epoch 4/100\n",
      "240/240 [==============================] - 0s 309us/step - loss: 163.9476\n",
      "Epoch 5/100\n",
      "240/240 [==============================] - 0s 304us/step - loss: 159.7335\n",
      "Epoch 6/100\n",
      "240/240 [==============================] - 0s 307us/step - loss: 154.8430\n",
      "Epoch 7/100\n",
      "240/240 [==============================] - 0s 311us/step - loss: 149.4887\n",
      "Epoch 8/100\n",
      "240/240 [==============================] - 0s 306us/step - loss: 143.2619\n",
      "Epoch 9/100\n",
      "240/240 [==============================] - 0s 312us/step - loss: 136.6881\n",
      "Epoch 10/100\n",
      "240/240 [==============================] - 0s 305us/step - loss: 129.5018\n",
      "Epoch 11/100\n",
      "240/240 [==============================] - 0s 306us/step - loss: 122.0873\n",
      "Epoch 12/100\n",
      "240/240 [==============================] - 0s 295us/step - loss: 114.1646\n",
      "Epoch 13/100\n",
      "240/240 [==============================] - 0s 299us/step - loss: 106.2211\n",
      "Epoch 14/100\n",
      "240/240 [==============================] - 0s 301us/step - loss: 98.6087\n",
      "Epoch 15/100\n",
      "240/240 [==============================] - 0s 313us/step - loss: 90.4694\n",
      "Epoch 16/100\n",
      "240/240 [==============================] - 0s 331us/step - loss: 82.9491\n",
      "Epoch 17/100\n",
      "240/240 [==============================] - 0s 324us/step - loss: 75.2792\n",
      "Epoch 18/100\n",
      "240/240 [==============================] - 0s 327us/step - loss: 69.1690\n",
      "Epoch 19/100\n",
      "240/240 [==============================] - 0s 325us/step - loss: 62.8050\n",
      "Epoch 20/100\n",
      "240/240 [==============================] - 0s 325us/step - loss: 57.2308\n",
      "Epoch 21/100\n",
      "240/240 [==============================] - 0s 327us/step - loss: 52.7681\n",
      "Epoch 22/100\n",
      "240/240 [==============================] - 0s 340us/step - loss: 48.6648\n",
      "Epoch 23/100\n",
      "240/240 [==============================] - 0s 325us/step - loss: 44.8107\n",
      "Epoch 24/100\n",
      "240/240 [==============================] - 0s 322us/step - loss: 41.8936\n",
      "Epoch 25/100\n",
      "240/240 [==============================] - 0s 325us/step - loss: 38.9939\n",
      "Epoch 26/100\n",
      "240/240 [==============================] - 0s 316us/step - loss: 37.1124\n",
      "Epoch 27/100\n",
      "240/240 [==============================] - 0s 317us/step - loss: 35.0385\n",
      "Epoch 28/100\n",
      "240/240 [==============================] - 0s 319us/step - loss: 33.6272\n",
      "Epoch 29/100\n",
      "240/240 [==============================] - 0s 321us/step - loss: 32.5549\n",
      "Epoch 30/100\n",
      "240/240 [==============================] - 0s 315us/step - loss: 32.1000\n",
      "Epoch 31/100\n",
      "240/240 [==============================] - 0s 310us/step - loss: 30.5622\n",
      "Epoch 32/100\n",
      "240/240 [==============================] - 0s 312us/step - loss: 30.3529\n",
      "Epoch 33/100\n",
      "240/240 [==============================] - 0s 308us/step - loss: 29.5601\n",
      "Epoch 34/100\n",
      "240/240 [==============================] - 0s 309us/step - loss: 29.6161\n",
      "Epoch 35/100\n",
      "240/240 [==============================] - 0s 321us/step - loss: 29.0523\n",
      "Epoch 36/100\n",
      "240/240 [==============================] - 0s 321us/step - loss: 29.1005\n",
      "Epoch 37/100\n",
      "240/240 [==============================] - 0s 314us/step - loss: 28.9367\n",
      "Epoch 38/100\n",
      "240/240 [==============================] - 0s 307us/step - loss: 28.4747\n",
      "Epoch 39/100\n",
      "240/240 [==============================] - 0s 311us/step - loss: 28.3265\n",
      "Epoch 40/100\n",
      "240/240 [==============================] - 0s 312us/step - loss: 27.9918\n",
      "Epoch 41/100\n",
      "240/240 [==============================] - 0s 310us/step - loss: 28.3826\n",
      "Epoch 42/100\n",
      "240/240 [==============================] - 0s 427us/step - loss: 28.2560\n",
      "Epoch 43/100\n",
      "240/240 [==============================] - 0s 315us/step - loss: 27.8827\n",
      "Epoch 44/100\n",
      "240/240 [==============================] - 0s 309us/step - loss: 27.6685\n",
      "Epoch 45/100\n",
      "240/240 [==============================] - 0s 314us/step - loss: 27.7667\n",
      "Epoch 46/100\n",
      "240/240 [==============================] - 0s 314us/step - loss: 27.7127\n",
      "Epoch 47/100\n",
      "240/240 [==============================] - 0s 307us/step - loss: 28.4202\n",
      "Epoch 48/100\n",
      "240/240 [==============================] - 0s 311us/step - loss: 27.6227\n",
      "Epoch 49/100\n",
      "240/240 [==============================] - 0s 310us/step - loss: 27.3732\n",
      "Epoch 50/100\n",
      "240/240 [==============================] - 0s 319us/step - loss: 28.0617\n",
      "Epoch 51/100\n",
      "240/240 [==============================] - 0s 307us/step - loss: 27.0565\n",
      "Epoch 52/100\n",
      "240/240 [==============================] - 0s 310us/step - loss: 27.8988\n",
      "Epoch 53/100\n",
      "240/240 [==============================] - 0s 310us/step - loss: 27.6596\n",
      "Epoch 54/100\n",
      "240/240 [==============================] - 0s 306us/step - loss: 27.3435\n",
      "Epoch 55/100\n",
      "240/240 [==============================] - 0s 307us/step - loss: 27.2632\n",
      "Epoch 56/100\n",
      "240/240 [==============================] - 0s 308us/step - loss: 27.0205\n",
      "Epoch 57/100\n",
      "240/240 [==============================] - 0s 314us/step - loss: 27.2878\n",
      "Epoch 58/100\n",
      "240/240 [==============================] - 0s 311us/step - loss: 27.4241\n",
      "Epoch 59/100\n",
      "240/240 [==============================] - 0s 315us/step - loss: 26.8585\n",
      "Epoch 60/100\n",
      "240/240 [==============================] - 0s 308us/step - loss: 27.1610\n",
      "Epoch 61/100\n",
      "240/240 [==============================] - 0s 310us/step - loss: 27.5694\n",
      "Epoch 62/100\n",
      "240/240 [==============================] - 0s 307us/step - loss: 27.4070\n",
      "Epoch 63/100\n",
      "240/240 [==============================] - 0s 314us/step - loss: 27.0118\n",
      "Epoch 64/100\n",
      "240/240 [==============================] - 0s 320us/step - loss: 26.9298\n",
      "Epoch 65/100\n",
      "240/240 [==============================] - 0s 307us/step - loss: 26.9970\n",
      "Epoch 66/100\n",
      "240/240 [==============================] - 0s 311us/step - loss: 26.8470\n",
      "Epoch 67/100\n",
      "240/240 [==============================] - 0s 318us/step - loss: 29.0971\n",
      "Epoch 68/100\n",
      "240/240 [==============================] - 0s 313us/step - loss: 26.7572\n",
      "Epoch 69/100\n",
      "240/240 [==============================] - 0s 313us/step - loss: 27.0685\n",
      "Epoch 70/100\n",
      "240/240 [==============================] - 0s 310us/step - loss: 27.0683\n",
      "Epoch 71/100\n",
      "240/240 [==============================] - 0s 315us/step - loss: 27.0047\n",
      "Epoch 72/100\n",
      "240/240 [==============================] - 0s 314us/step - loss: 26.4746\n",
      "Epoch 73/100\n",
      "240/240 [==============================] - 0s 310us/step - loss: 27.2905\n",
      "Epoch 74/100\n",
      "240/240 [==============================] - 0s 311us/step - loss: 28.7281\n",
      "Epoch 75/100\n",
      "240/240 [==============================] - 0s 307us/step - loss: 27.8966\n",
      "Epoch 76/100\n",
      "240/240 [==============================] - 0s 307us/step - loss: 27.8314\n",
      "Epoch 77/100\n",
      "240/240 [==============================] - 0s 310us/step - loss: 27.1718\n",
      "Epoch 78/100\n",
      "240/240 [==============================] - 0s 306us/step - loss: 27.0433\n",
      "Epoch 79/100\n",
      "240/240 [==============================] - 0s 312us/step - loss: 26.8286\n",
      "Epoch 80/100\n",
      "240/240 [==============================] - 0s 313us/step - loss: 27.5881\n",
      "Epoch 81/100\n",
      "240/240 [==============================] - 0s 308us/step - loss: 27.5587\n",
      "Epoch 82/100\n",
      "240/240 [==============================] - 0s 314us/step - loss: 26.8741\n",
      "Epoch 83/100\n",
      "240/240 [==============================] - 0s 306us/step - loss: 26.8027\n",
      "Epoch 84/100\n",
      "240/240 [==============================] - 0s 305us/step - loss: 27.1950\n",
      "Epoch 85/100\n",
      "240/240 [==============================] - 0s 311us/step - loss: 27.0685\n",
      "Epoch 86/100\n",
      "240/240 [==============================] - 0s 436us/step - loss: 27.0092\n",
      "Epoch 87/100\n",
      "240/240 [==============================] - 0s 310us/step - loss: 27.3576\n",
      "Epoch 88/100\n",
      "240/240 [==============================] - 0s 307us/step - loss: 28.2622\n",
      "Epoch 89/100\n",
      "240/240 [==============================] - 0s 316us/step - loss: 27.2858\n",
      "Epoch 90/100\n",
      "240/240 [==============================] - 0s 316us/step - loss: 26.8433\n",
      "Epoch 91/100\n",
      "240/240 [==============================] - 0s 311us/step - loss: 26.7800\n",
      "Epoch 92/100\n",
      "240/240 [==============================] - 0s 312us/step - loss: 27.1923\n",
      "Epoch 93/100\n",
      "240/240 [==============================] - 0s 307us/step - loss: 27.7640\n",
      "Epoch 94/100\n",
      "240/240 [==============================] - 0s 310us/step - loss: 27.4136\n",
      "Epoch 95/100\n",
      "240/240 [==============================] - 0s 308us/step - loss: 26.7786\n",
      "Epoch 96/100\n",
      "240/240 [==============================] - 0s 316us/step - loss: 26.8474\n",
      "Epoch 97/100\n",
      "240/240 [==============================] - 0s 313us/step - loss: 26.8150\n",
      "Epoch 98/100\n",
      "240/240 [==============================] - 0s 293us/step - loss: 26.4884\n",
      "Epoch 99/100\n",
      "240/240 [==============================] - 0s 329us/step - loss: 27.0527\n",
      "Epoch 100/100\n",
      "240/240 [==============================] - 0s 324us/step - loss: 27.2178\n"
     ]
    },
    {
     "data": {
      "text/plain": [
       "<keras.callbacks.History at 0x3089f9410>"
      ]
     },
     "execution_count": 10,
     "metadata": {},
     "output_type": "execute_result"
    }
   ],
   "source": [
    "ann.fit(X_train, y_train, batch_size = 32, epochs = 100)"
   ]
  },
  {
   "cell_type": "markdown",
   "metadata": {
    "colab_type": "text",
    "id": "0H0zKKNEBLD5"
   },
   "source": [
    "### Predicting the results of the Test set"
   ]
  },
  {
   "cell_type": "code",
   "execution_count": 11,
   "metadata": {
    "colab": {
     "base_uri": "https://localhost:8080/",
     "height": 134
    },
    "colab_type": "code",
    "id": "IA0yApEmBG1X",
    "outputId": "cb981e1f-9204-4a2a-fece-9d66a6919189",
    "tags": []
   },
   "outputs": [
    {
     "name": "stdout",
     "output_type": "stream",
     "text": [
      "60/60 [==============================] - 0s 293us/step\n",
      "[[431.54 431.23]\n",
      " [462.56 460.01]\n",
      " [466.05 461.14]\n",
      " ...\n",
      " [473.28 473.26]\n",
      " [440.13 438.  ]\n",
      " [459.31 463.28]]\n"
     ]
    }
   ],
   "source": [
    "y_pred = ann.predict(X_test)\n",
    "np.set_printoptions(precision=2)\n",
    "print(np.concatenate((y_pred.reshape(len(y_pred),1), y_test.reshape(len(y_test),1)),1))"
   ]
  },
  {
   "cell_type": "markdown",
   "metadata": {},
   "source": [
    "### Calculate r2_score"
   ]
  },
  {
   "cell_type": "code",
   "execution_count": 12,
   "metadata": {
    "tags": []
   },
   "outputs": [
    {
     "name": "stdout",
     "output_type": "stream",
     "text": [
      "0.9158263871438961\n"
     ]
    }
   ],
   "source": [
    "from sklearn.metrics import r2_score\n",
    "print(r2_score(y_test, y_pred))"
   ]
  },
  {
   "cell_type": "code",
   "execution_count": null,
   "metadata": {},
   "outputs": [],
   "source": []
  }
 ],
 "metadata": {
  "colab": {
   "collapsed_sections": [],
   "name": "Artificial Neural Network",
   "provenance": [],
   "toc_visible": true
  },
  "kernelspec": {
   "display_name": "Python 3 (ipykernel)",
   "language": "python",
   "name": "python3"
  },
  "language_info": {
   "codemirror_mode": {
    "name": "ipython",
    "version": 3
   },
   "file_extension": ".py",
   "mimetype": "text/x-python",
   "name": "python",
   "nbconvert_exporter": "python",
   "pygments_lexer": "ipython3",
   "version": "3.11.5"
  }
 },
 "nbformat": 4,
 "nbformat_minor": 4
}
